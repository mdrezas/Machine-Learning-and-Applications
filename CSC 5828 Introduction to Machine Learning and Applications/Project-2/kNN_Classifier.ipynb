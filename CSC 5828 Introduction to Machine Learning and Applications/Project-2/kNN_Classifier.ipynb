{
 "cells": [
  {
   "cell_type": "markdown",
   "metadata": {},
   "source": [
    "## kNN Clasiffier\n",
    "### ID: eo9232\n",
    "### Name: Md Reza\n",
    "### CSC 5825 - Fall 2021"
   ]
  },
  {
   "cell_type": "code",
   "execution_count": 1,
   "metadata": {},
   "outputs": [],
   "source": [
    "# Import libraries and initialize variable\n",
    "import csv\n",
    "import numpy as np\n",
    "import random\n",
    "import math\n",
    "import pandas as pd\n",
    "from numpy.random import RandomState\n",
    "k=5"
   ]
  },
  {
   "cell_type": "markdown",
   "metadata": {},
   "source": [
    "#### Load the dataset"
   ]
  },
  {
   "cell_type": "code",
   "execution_count": 2,
   "metadata": {},
   "outputs": [],
   "source": [
    "df=pd.read_csv('/u/mreza6/5825/Data/heart.csv')\n",
    "rng = RandomState()\n",
    "df = df.sample(frac = 1).reset_index(drop=True)"
   ]
  },
  {
   "cell_type": "markdown",
   "metadata": {},
   "source": [
    "#### Split the features & target class"
   ]
  },
  {
   "cell_type": "code",
   "execution_count": 3,
   "metadata": {},
   "outputs": [],
   "source": [
    "nRows = len(df.index)\n",
    "# Features\n",
    "X = df[df.columns[1:13]]\n",
    "# Target class\n",
    "y = df[df.columns[13]]\n",
    "X = X.astype(float)"
   ]
  },
  {
   "cell_type": "markdown",
   "metadata": {},
   "source": [
    "#### Transformed features using function F(X) = (X - mean)/std"
   ]
  },
  {
   "cell_type": "code",
   "execution_count": 4,
   "metadata": {},
   "outputs": [],
   "source": [
    "xTrans = (X - X.mean())/X.std()"
   ]
  },
  {
   "cell_type": "markdown",
   "metadata": {},
   "source": [
    "#### Mapped categorical variables to numerical values (through one-hot encoding)"
   ]
  },
  {
   "cell_type": "code",
   "execution_count": 5,
   "metadata": {},
   "outputs": [],
   "source": [
    "xTrans=pd.get_dummies(xTrans)"
   ]
  },
  {
   "cell_type": "markdown",
   "metadata": {},
   "source": [
    "#### Split the instances into training, validation, and test sets as (6:2:2)"
   ]
  },
  {
   "cell_type": "code",
   "execution_count": 6,
   "metadata": {},
   "outputs": [],
   "source": [
    "nTrain = round(nRows*0.6)\n",
    "xTrain = xTrans[:nTrain]\n",
    "\n",
    "# training set\n",
    "yTrain = y[:nTrain]\n",
    "\n",
    "# Remaining test set\n",
    "X_n = xTrans[-(nRows-nTrain):]\n",
    "y_n = y[-(nRows-nTrain):]\n",
    "\n",
    "# Split remaining 40% into half to keep 20% for Validation\n",
    "numVal = int((nRows-nTrain)/2)\n",
    "numTest = nRows-nTrain-numVal\n",
    "xVal = X_n[:numVal]\n",
    "yVal = y_n[:numVal]\n",
    "\n",
    "# Calculated X_tst and y_tst \n",
    "xTest = X_n[-numTest:]\n",
    "yTest = y_n[-numTest:]"
   ]
  },
  {
   "cell_type": "markdown",
   "metadata": {},
   "source": [
    "#### Convert to NumPy array"
   ]
  },
  {
   "cell_type": "code",
   "execution_count": 7,
   "metadata": {},
   "outputs": [],
   "source": [
    "xTrain = xTrain.to_numpy()\n",
    "yTrain = yTrain.to_numpy()\n",
    "xTest = xTest.to_numpy()\n",
    "yTest = yTest.to_numpy()\n",
    "xValidation = xVal.to_numpy()\n",
    "yValidation = yVal.to_numpy()"
   ]
  },
  {
   "cell_type": "markdown",
   "metadata": {},
   "source": [
    "#### Calculate the accuracy of best K"
   ]
  },
  {
   "cell_type": "code",
   "execution_count": 8,
   "metadata": {},
   "outputs": [],
   "source": [
    "def accuracy(yTest,yPredict):\n",
    "    x=yTest.flatten()==yPredict.flatten()\n",
    "    target=np.mean(x)\n",
    "    return np.round(target*100,2)"
   ]
  },
  {
   "cell_type": "markdown",
   "metadata": {},
   "source": [
    "#### Calculate the L2 distance between neighbors"
   ]
  },
  {
   "cell_type": "code",
   "execution_count": 9,
   "metadata": {},
   "outputs": [],
   "source": [
    "def l2_dist(xTrain,xTest,k):\n",
    "    euc = -2 * xTrain@xTest.T \n",
    "    + np.sum(xTest**2,axis=1) \n",
    "    + np.sum(xTrain**2,axis=1)[:, np.newaxis]\n",
    "    euc[euc < 0] = 0\n",
    "    euc = euc**.5\n",
    "    indx = np.argsort(euc, 0)\n",
    "    euc = np.sort(euc,0)\n",
    "    return indx[0:k,:], euc[0:k,:]"
   ]
  },
  {
   "cell_type": "markdown",
   "metadata": {},
   "source": [
    "#### Get the K closest neighbors"
   ]
  },
  {
   "cell_type": "code",
   "execution_count": 10,
   "metadata": {},
   "outputs": [],
   "source": [
    "def predict(xTrain,yTrain,xTest,k):\n",
    "    indx, euc = l2_dist(xTrain,xTest,k)\n",
    "    yTrain = yTrain.flatten()\n",
    "    rows, columns = indx.shape\n",
    "    result = list()\n",
    "    for k in range(columns):\n",
    "        tmp = list()\n",
    "        for j in range(rows):\n",
    "            item = indx[j][k]\n",
    "            tmp.append(yTrain[item])\n",
    "        result.append(max(tmp,key=tmp.count))\n",
    "    result=np.array(result)\n",
    "    return result"
   ]
  },
  {
   "cell_type": "markdown",
   "metadata": {},
   "source": [
    "#### Fine tune the hyper-parameter k"
   ]
  },
  {
   "cell_type": "code",
   "execution_count": 11,
   "metadata": {},
   "outputs": [
    {
     "name": "stdout",
     "output_type": "stream",
     "text": [
      "The value of K = 4  has the optimum accuracy of : 73.33 %\n"
     ]
    }
   ],
   "source": [
    "bestAccuracy = np.zeros((k-1))\n",
    "for n in range(1,k):\n",
    "    yTemp = predict(xTrain,yTrain,xValidation,n)\n",
    "    bestAccuracy[n-1] = accuracy(yTemp,yValidation)\n",
    "print( \"The value of K =\", bestAccuracy.argmax()+1, \" has the optimum accuracy of :\", bestAccuracy.max(),\"%\")"
   ]
  },
  {
   "cell_type": "markdown",
   "metadata": {},
   "source": [
    "#### Calculate kNN accuracy"
   ]
  },
  {
   "cell_type": "code",
   "execution_count": 12,
   "metadata": {},
   "outputs": [],
   "source": [
    "def knnAccuracy(xTest,yPredict):\n",
    "    c = 0\n",
    "    for i in range(len(xTest)):\n",
    "        if xTest[i] == yPredict[i]:\n",
    "            c += 1\n",
    "    accuracy=(c/float(len(xTest))) * 100.0\n",
    "    return accuracy"
   ]
  },
  {
   "cell_type": "markdown",
   "metadata": {},
   "source": [
    "#### Define the confusion matrix and calculate precision, recall, & f1-score"
   ]
  },
  {
   "cell_type": "code",
   "execution_count": 13,
   "metadata": {},
   "outputs": [],
   "source": [
    "def confusionMatrix(xTest,yPredict):\n",
    "    \n",
    "    # Count TP\n",
    "    #===================================\n",
    "    tp=0\n",
    "    for i in range(len(xTest)):\n",
    "        if(xTest[i]==1 and yPredict[i]==1):\n",
    "            tp=tp+1\n",
    "       \n",
    "    # Count FP\n",
    "    #===================================\n",
    "    fp=0\n",
    "    for i in range(len(xTest)):\n",
    "        if(xTest[i]==0 and yPredict[i]==1):\n",
    "            fp=fp+1\n",
    "\n",
    "    # Count FN\n",
    "    #===================================\n",
    "    fn=0\n",
    "    for i in range(len(xTest)):\n",
    "        if(xTest[i]==1 and yPredict[i]==0):\n",
    "            fn=fn+1\n",
    "    \n",
    "    # Count TN\n",
    "    #===================================\n",
    "    tn=0\n",
    "    for i in range(len(xTest)):\n",
    "        if(xTest[i]==0 and yPredict[i]==0):\n",
    "            tn=tn+1\n",
    "    \n",
    "    # Confusion Matrix\n",
    "    print(\"\\n\\nConfusion Matrix\")\n",
    "    print(\"\\n%15sActual\" % \"\")\n",
    "    print(\"%6s %7s %7s\" % (\"\", \"1\", \"0\"))\n",
    "    print(\"P%6s +--------+--------+\" % \"\")\n",
    "    print(\"r%6s | %-6s | %-6s |\" % (\"1\", 'TP='+str(tp), 'FP='+str(fp)))\n",
    "    print(\"e%6s +--------+--------+\" % \"\")\n",
    "    print(\"d%6s | %-6s | %-6s |\" % (\"0\", 'FN='+str(fn), 'TN='+str(tn)))\n",
    "    print(\".%6s +--------+--------+\\n\" % \"\")\n",
    "\n",
    "    # Precision\n",
    "    precision=(tp)/(tp+fp)\n",
    "    print(\"\\n\\n Precision:\", format(precision,\".4f\"))\n",
    "    \n",
    "    # Recall\n",
    "    recall=(tp)/(tp+fn)\n",
    "    print(\" Recall   :\", format(recall,\".4f\"))\n",
    "    \n",
    "    # F1 Score\n",
    "    f1score=(2*precision*recall)/(precision+recall)\n",
    "    print(\" F1-Score :\",format(f1score,\".4f\"))"
   ]
  },
  {
   "cell_type": "markdown",
   "metadata": {},
   "source": [
    "#### Make Prediction"
   ]
  },
  {
   "cell_type": "code",
   "execution_count": 14,
   "metadata": {},
   "outputs": [],
   "source": [
    "kVal = bestAccuracy.argmax()+1\n",
    "yPredict = predict(xTrain,yTrain,xTest,kVal)"
   ]
  },
  {
   "cell_type": "markdown",
   "metadata": {},
   "source": [
    "#### Print Accuracy "
   ]
  },
  {
   "cell_type": "code",
   "execution_count": 15,
   "metadata": {},
   "outputs": [],
   "source": [
    "def printAccuracy(yTest,yPredict):\n",
    "    acc=knnAccuracy(yTest,yPredict) \n",
    "    print(\" Accuracy :\",format(acc,\".2f\"),\"%\")"
   ]
  },
  {
   "cell_type": "markdown",
   "metadata": {},
   "source": [
    "#### Print confusion matrix, Precision, Recall, F1-Score, & Accuracy"
   ]
  },
  {
   "cell_type": "code",
   "execution_count": 16,
   "metadata": {},
   "outputs": [
    {
     "name": "stdout",
     "output_type": "stream",
     "text": [
      "\n",
      "\n",
      "Confusion Matrix\n",
      "\n",
      "               Actual\n",
      "             1       0\n",
      "P       +--------+--------+\n",
      "r     1 | TP=31  | FP=12  |\n",
      "e       +--------+--------+\n",
      "d     0 | FN=1   | TN=17  |\n",
      ".       +--------+--------+\n",
      "\n",
      "\n",
      "\n",
      " Precision: 0.7209\n",
      " Recall   : 0.9688\n",
      " F1-Score : 0.8267\n",
      " Accuracy : 78.69 %\n"
     ]
    }
   ],
   "source": [
    "confusionMatrix(yTest,yPredict)\n",
    "printAccuracy(yTest,yPredict)"
   ]
  }
 ],
 "metadata": {
  "kernelspec": {
   "display_name": "Python 3",
   "language": "python",
   "name": "python3"
  },
  "language_info": {
   "codemirror_mode": {
    "name": "ipython",
    "version": 3
   },
   "file_extension": ".py",
   "mimetype": "text/x-python",
   "name": "python",
   "nbconvert_exporter": "python",
   "pygments_lexer": "ipython3",
   "version": "3.6.8"
  }
 },
 "nbformat": 4,
 "nbformat_minor": 4
}
