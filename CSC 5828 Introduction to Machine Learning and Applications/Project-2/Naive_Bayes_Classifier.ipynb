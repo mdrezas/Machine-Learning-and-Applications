{
 "cells": [
  {
   "cell_type": "markdown",
   "metadata": {},
   "source": [
    "## Naive Bayes Clasiffier\n",
    "### ID: eo9232\n",
    "### Name: Md Reza\n",
    "### CSC 5825 - Fall 2021\n"
   ]
  },
  {
   "cell_type": "code",
   "execution_count": 1,
   "metadata": {},
   "outputs": [],
   "source": [
    "# Import libraries\n",
    "import csv\n",
    "import numpy as np\n",
    "import random\n",
    "import math\n",
    "import pandas as pd\n",
    "from numpy.random import RandomState"
   ]
  },
  {
   "cell_type": "markdown",
   "metadata": {},
   "source": [
    "#### Calculate each attribute's mean"
   ]
  },
  {
   "cell_type": "code",
   "execution_count": 2,
   "metadata": {},
   "outputs": [],
   "source": [
    "def calcMean(eachAttrib):  \n",
    "    count=0\n",
    "    num_f=float(len(eachAttrib))\n",
    "    for j in range(len(eachAttrib)):\n",
    "        count=count+float(eachAttrib[j])\n",
    "    return count/num_f"
   ]
  },
  {
   "cell_type": "markdown",
   "metadata": {},
   "source": [
    "#### Calculate each attribute's standard deviation"
   ]
  },
  {
   "cell_type": "code",
   "execution_count": 3,
   "metadata": {},
   "outputs": [],
   "source": [
    "def calcStdev(eachAttrib):\n",
    "    mn = calcMean(eachAttrib)\n",
    "    s=0.0\n",
    "    num_fl=len(eachAttrib)\n",
    "    for k in range(num_fl):\n",
    "        s=s+pow(float(eachAttrib[k])-mn,2)\n",
    "    var = s/(float(num_fl-1))\n",
    "    return math.sqrt(var)"
   ]
  },
  {
   "cell_type": "markdown",
   "metadata": {},
   "source": [
    "#### Load the dataset"
   ]
  },
  {
   "cell_type": "code",
   "execution_count": 4,
   "metadata": {},
   "outputs": [],
   "source": [
    "dataframe=csv.reader(open('/u/mreza6/5825/Data/heart.csv','r'))\n",
    "rng = RandomState()\n",
    "df_n = list(dataframe)\n",
    "for i in range(len(df_n)-1):\n",
    "    df_n[i] = [float(x) for x in df_n[i+1]]"
   ]
  },
  {
   "cell_type": "markdown",
   "metadata": {},
   "source": [
    "#### Split the 303 instances into training and test sets (8:2) and preprocessing"
   ]
  },
  {
   "cell_type": "code",
   "execution_count": 5,
   "metadata": {},
   "outputs": [],
   "source": [
    "# Split the data into 80:20 ration\n",
    "trainSet = int(len(df_n) * 0.80)\n",
    "xTrain = []\n",
    "xTest = list(df_n)\n",
    "for i in range(trainSet):\n",
    "        index = random.randrange(len(xTest))\n",
    "        xTrain.append(xTest.pop(index))\n",
    "        \n",
    "# Features categorization \n",
    "cat={}\n",
    "for k in range(len(df_n)):\n",
    "    numClass=float(df_n[k][-1])\n",
    "    r=df_n[k]\n",
    "    if(numClass not in cat):\n",
    "        cat[numClass]=[]\n",
    "    cat[numClass].append(r)\n",
    "    \n",
    "#  Segment the data according to class\n",
    "dataClass={}\n",
    "for classNum, r in cat.items():\n",
    "    classDatarow = [(calcMean(eachAttrib), calcStdev(eachAttrib)) \n",
    "                     for eachAttrib in zip(*r)]\n",
    "    classDatarow = classDatarow[0:13]\n",
    "    dataClass[classNum] = classDatarow"
   ]
  },
  {
   "cell_type": "markdown",
   "metadata": {},
   "source": [
    "#### Define the naive bayes classifier with prediction"
   ]
  },
  {
   "cell_type": "code",
   "execution_count": 6,
   "metadata": {},
   "outputs": [],
   "source": [
    "yPredict = []\n",
    "for i in range(len(xTest)):\n",
    "    classProb = {}\n",
    "    for classNum, row in dataClass.items():\n",
    "        classProb[classNum] = 1\n",
    "        for j in range(len(row)):\n",
    "            meanCalc, stdevCalc = row[j]\n",
    "            x = float(xTest[i][j])\n",
    "            if(stdevCalc!=0):\n",
    "                power = math.exp(-(math.pow(x-meanCalc,2)/(2*math.pow(stdevCalc,2))))\n",
    "                prob= (1 / (math.sqrt(2*math.pi) *stdevCalc)) * power\n",
    "            classProb[classNum] *= prob\n",
    "\n",
    "    classOut, maxProb = -1, -1\n",
    "    for classNum, prob in classProb.items():\n",
    "        if classOut == -1 or prob > maxProb:\n",
    "                maxProb = prob\n",
    "                classOut = classNum \n",
    "        \n",
    "    yPredict.append(classOut)"
   ]
  },
  {
   "cell_type": "markdown",
   "metadata": {},
   "source": [
    "#### Calculate NB accuracy"
   ]
  },
  {
   "cell_type": "code",
   "execution_count": 7,
   "metadata": {},
   "outputs": [],
   "source": [
    "def nbAccuracy(xTest,yPredict):\n",
    "    count = 0\n",
    "    for i in range(len(xTest)):\n",
    "        if xTest[i][-1] == yPredict[i]:\n",
    "            count += 1\n",
    "    accuracy=(count/float(len(xTest))) * 100.0\n",
    "    return accuracy  "
   ]
  },
  {
   "cell_type": "markdown",
   "metadata": {},
   "source": [
    "#### Define the confusion matrix and calculate precision, recall, & f1-score"
   ]
  },
  {
   "cell_type": "code",
   "execution_count": 8,
   "metadata": {},
   "outputs": [],
   "source": [
    "def confusionMatrix(xTest,yPredict):\n",
    "   \n",
    "    # Count TP\n",
    "    #===================================\n",
    "    tp=0\n",
    "    for i in range(len(xTest)):\n",
    "        if(xTest[i][-1]==1 and yPredict[i]==1):\n",
    "            tp=tp+1\n",
    "    \n",
    "    # Count FP\n",
    "    #===================================\n",
    "    fp=0\n",
    "    for i in range(len(xTest)):\n",
    "        if(xTest[i][-1]==0 and yPredict[i]==1):\n",
    "            fp=fp+1\n",
    "    \n",
    "    #Count FN\n",
    "    #===================================\n",
    "    fn=0\n",
    "    for i in range(len(xTest)):\n",
    "        if(xTest[i][-1]==1 and yPredict[i]==0):\n",
    "            fn=fn+1\n",
    "     \n",
    "    #Count TN\n",
    "    #===================================\n",
    "    tn=0\n",
    "    for i in range(len(xTest)):\n",
    "        if(xTest[i][-1]==0 and yPredict[i]==0):\n",
    "            tn=tn+1\n",
    "    \n",
    "    # Confusion Matrix\n",
    "    print(\"\\n\\nConfusion Matrix\")\n",
    "    print(\"\\n%15sActual\" % \"\")\n",
    "    print(\"%6s %7s %7s\" % (\"\", \"1\", \"0\"))\n",
    "    print(\"P%6s +--------+--------+\" % \"\")\n",
    "    print(\"r%6s | %-6s | %-6s |\" % (\"1\", 'TP='+str(tp), 'FP='+str(fp)))\n",
    "    print(\"e%6s +--------+--------+\" % \"\")\n",
    "    print(\"d%6s | %-6s | %-6s |\" % (\"0\", 'FN='+str(fn), 'TN='+str(tn)))\n",
    "    print(\".%6s +--------+--------+\\n\" % \"\")\n",
    "    \n",
    "    # Precision\n",
    "    precision=(tp)/(tp+fp)\n",
    "    print(\"\\n\\n Precision:\", format(precision,\".4f\"))\n",
    "\n",
    "    # Recall\n",
    "    recall=(tp)/(tp+fn)\n",
    "    print(\" Recall   :\", format(recall,\".4f\"))\n",
    "    \n",
    "    # F1 Score\n",
    "    f1score=(2*precision*recall)/(precision+recall)\n",
    "    print(\" F1-Score :\",format(f1score,\".4f\"))"
   ]
  },
  {
   "cell_type": "markdown",
   "metadata": {},
   "source": [
    "#### Print Accuracy"
   ]
  },
  {
   "cell_type": "code",
   "execution_count": 9,
   "metadata": {},
   "outputs": [],
   "source": [
    "def printAccuracy(xTest,yPredict):\n",
    "    acc=nbAccuracy(xTest,yPredict) \n",
    "    print(\" Accuracy :\",format(acc,\".2f\"),\"%\")"
   ]
  },
  {
   "cell_type": "markdown",
   "metadata": {},
   "source": [
    "#### Print confusion matrix, Precision, Recall, F1-Score, & Accuracy"
   ]
  },
  {
   "cell_type": "code",
   "execution_count": 10,
   "metadata": {},
   "outputs": [
    {
     "name": "stdout",
     "output_type": "stream",
     "text": [
      "\n",
      "\n",
      "Confusion Matrix\n",
      "\n",
      "               Actual\n",
      "             1       0\n",
      "P       +--------+--------+\n",
      "r     1 | TP=23  | FP=5   |\n",
      "e       +--------+--------+\n",
      "d     0 | FN=2   | TN=31  |\n",
      ".       +--------+--------+\n",
      "\n",
      "\n",
      "\n",
      " Precision: 0.8214\n",
      " Recall   : 0.9200\n",
      " F1-Score : 0.8679\n",
      " Accuracy : 88.52 %\n"
     ]
    }
   ],
   "source": [
    "confusionMatrix(xTest,yPredict)\n",
    "printAccuracy(xTest,yPredict)"
   ]
  }
 ],
 "metadata": {
  "kernelspec": {
   "display_name": "Python 3",
   "language": "python",
   "name": "python3"
  },
  "language_info": {
   "codemirror_mode": {
    "name": "ipython",
    "version": 3
   },
   "file_extension": ".py",
   "mimetype": "text/x-python",
   "name": "python",
   "nbconvert_exporter": "python",
   "pygments_lexer": "ipython3",
   "version": "3.6.8"
  }
 },
 "nbformat": 4,
 "nbformat_minor": 4
}
