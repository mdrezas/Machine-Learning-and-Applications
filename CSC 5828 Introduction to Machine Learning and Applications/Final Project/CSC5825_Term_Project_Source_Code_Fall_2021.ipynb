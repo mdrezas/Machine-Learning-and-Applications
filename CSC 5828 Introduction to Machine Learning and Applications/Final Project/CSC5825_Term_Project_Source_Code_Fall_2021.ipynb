{
 "cells": [
  {
   "cell_type": "markdown",
   "metadata": {},
   "source": [
    "## Term Project\n",
    "### ID: eo9232\n",
    "### Name: Md Reza\n",
    "### CSC 5825 - Fall 2021"
   ]
  },
  {
   "cell_type": "code",
   "execution_count": 1,
   "metadata": {},
   "outputs": [],
   "source": [
    "# Import requires packages and libraries\n",
    "import numpy as np\n",
    "import pandas as pd\n",
    "from sklearn.metrics import roc_auc_score\n",
    "import matplotlib.pyplot as plt\n",
    "import seaborn as sns\n",
    "import collections\n",
    "import warnings\n",
    "warnings.filterwarnings('ignore')\n",
    "import math \n",
    "from mpl_toolkits.mplot3d import Axes3D\n",
    "from collections import Counter\n",
    "from datetime import date, timedelta, datetime\n",
    "from tabulate import tabulate\n",
    "\n",
    "from imblearn.pipeline import make_pipeline as imbalanced_make_pipeline\n",
    "from imblearn.over_sampling import SMOTE\n",
    "from imblearn.under_sampling import NearMiss\n",
    "from imblearn.metrics import classification_report_imbalanced\n",
    "\n",
    "import sklearn.metrics as metrics\n",
    "from sklearn.metrics import roc_auc_score\n",
    "from sklearn.model_selection import train_test_split, cross_val_score, KFold\n",
    "from sklearn.utils import resample \n",
    "from sklearn.decomposition import PCA\n",
    "from sklearn.pipeline import Pipeline\n",
    "from sklearn.linear_model import LogisticRegression\n",
    "from sklearn.svm import SVC\n",
    "from sklearn.tree import DecisionTreeClassifier\n",
    "from sklearn.model_selection import train_test_split, GridSearchCV\n",
    "from sklearn.neighbors import LocalOutlierFactor, KNeighborsClassifier\n",
    "from sklearn.metrics import precision_score, recall_score, roc_curve, roc_auc_score\n",
    "from sklearn.naive_bayes import GaussianNB\n",
    "from sklearn.ensemble import IsolationForest\n",
    "from sklearn.metrics import classification_report\n",
    "from sklearn.metrics import make_scorer, accuracy_score, f1_score, confusion_matrix, classification_report\n",
    "from sklearn.metrics import precision_recall_fscore_support as score"
   ]
  },
  {
   "cell_type": "markdown",
   "metadata": {},
   "source": [
    "## Load and Summarize the Data"
   ]
  },
  {
   "cell_type": "code",
   "execution_count": 2,
   "metadata": {},
   "outputs": [],
   "source": [
    "def read_crData():\n",
    "    df=pd.read_csv(\"/u/mreza6/5825/Data/creditcard.csv\")\n",
    "    return df\n",
    "\n",
    "df=read_crData()"
   ]
  },
  {
   "cell_type": "code",
   "execution_count": 3,
   "metadata": {},
   "outputs": [
    {
     "name": "stdout",
     "output_type": "stream",
     "text": [
      "0    284315\n",
      "1       492\n",
      "Name: Class, dtype: int64\n"
     ]
    }
   ],
   "source": [
    "print(df[\"Class\"].value_counts())"
   ]
  },
  {
   "cell_type": "markdown",
   "metadata": {},
   "source": [
    "##### Distribution of Non-Fraudulent vs. Fraudulent Transactions"
   ]
  },
  {
   "cell_type": "code",
   "execution_count": 4,
   "metadata": {},
   "outputs": [
    {
     "name": "stdout",
     "output_type": "stream",
     "text": [
      "Non-Fraudulent Transactions: 99.83 %\n",
      "Fraudulent Transactions    : 0.17 %\n"
     ]
    }
   ],
   "source": [
    "print('Non-Fraudulent Transactions:',round(df[\"Class\"].value_counts()[0]/len(df)*100,2),'%')\n",
    "print('Fraudulent Transactions    :',round(df[\"Class\"].value_counts()[1]/len(df)*100,2),'%')"
   ]
  },
  {
   "cell_type": "code",
   "execution_count": 5,
   "metadata": {
    "scrolled": true
   },
   "outputs": [
    {
     "data": {
      "image/png": "[encoded data removed]",
      "text/plain": [
       "<Figure size 432x360 with 1 Axes>"
      ]
     },
     "metadata": {
      "needs_background": "light"
     },
     "output_type": "display_data"
    }
   ],
   "source": [
    "plt.figure(figsize=(6, 5))\n",
    "var = sns.countplot(x=df.Class, hue=df.Class).set(title='Distribution of Non-Fraudulent vs. Fraudulent Transactions')"
   ]
  },
  {
   "cell_type": "markdown",
   "metadata": {},
   "source": [
    "## Data Preprocessing and Visualization"
   ]
  },
  {
   "cell_type": "markdown",
   "metadata": {},
   "source": [
    "##### PCA Transform the Time & Amount Features "
   ]
  },
  {
   "cell_type": "code",
   "execution_count": 6,
   "metadata": {},
   "outputs": [
    {
     "data": {
      "text/html": [
       "<div>\n",
       "<style scoped>\n",
       "    .dataframe tbody tr th:only-of-type {\n",
       "        vertical-align: middle;\n",
       "    }\n",
       "\n",
       "    .dataframe tbody tr th {\n",
       "        vertical-align: top;\n",
       "    }\n",
       "\n",
       "    .dataframe thead th {\n",
       "        text-align: right;\n",
       "    }\n",
       "</style>\n",
       "<table border=\"1\" class=\"dataframe\">\n",
       "  <thead>\n",
       "    <tr style=\"text-align: right;\">\n",
       "      <th></th>\n",
       "      <th>V1</th>\n",
       "      <th>V2</th>\n",
       "      <th>V3</th>\n",
       "      <th>V4</th>\n",
       "      <th>V5</th>\n",
       "      <th>V6</th>\n",
       "      <th>V7</th>\n",
       "      <th>V8</th>\n",
       "      <th>V9</th>\n",
       "      <th>V10</th>\n",
       "      <th>...</th>\n",
       "      <th>V22</th>\n",
       "      <th>V23</th>\n",
       "      <th>V24</th>\n",
       "      <th>V25</th>\n",
       "      <th>V26</th>\n",
       "      <th>V27</th>\n",
       "      <th>V28</th>\n",
       "      <th>Class</th>\n",
       "      <th>PCA_Time</th>\n",
       "      <th>PCA_Amount</th>\n",
       "    </tr>\n",
       "  </thead>\n",
       "  <tbody>\n",
       "    <tr>\n",
       "      <th>0</th>\n",
       "      <td>-1.359807</td>\n",
       "      <td>-0.072781</td>\n",
       "      <td>2.536347</td>\n",
       "      <td>1.378155</td>\n",
       "      <td>-0.338321</td>\n",
       "      <td>0.462388</td>\n",
       "      <td>0.239599</td>\n",
       "      <td>0.098698</td>\n",
       "      <td>0.363787</td>\n",
       "      <td>0.090794</td>\n",
       "      <td>...</td>\n",
       "      <td>0.277838</td>\n",
       "      <td>-0.110474</td>\n",
       "      <td>0.066928</td>\n",
       "      <td>0.128539</td>\n",
       "      <td>-0.189115</td>\n",
       "      <td>0.133558</td>\n",
       "      <td>-0.021053</td>\n",
       "      <td>0</td>\n",
       "      <td>94813.862847</td>\n",
       "      <td>55.978567</td>\n",
       "    </tr>\n",
       "    <tr>\n",
       "      <th>1</th>\n",
       "      <td>1.191857</td>\n",
       "      <td>0.266151</td>\n",
       "      <td>0.166480</td>\n",
       "      <td>0.448154</td>\n",
       "      <td>0.060018</td>\n",
       "      <td>-0.082361</td>\n",
       "      <td>-0.078803</td>\n",
       "      <td>0.085102</td>\n",
       "      <td>-0.255425</td>\n",
       "      <td>-0.166974</td>\n",
       "      <td>...</td>\n",
       "      <td>-0.638672</td>\n",
       "      <td>0.101288</td>\n",
       "      <td>-0.339846</td>\n",
       "      <td>0.167170</td>\n",
       "      <td>0.125895</td>\n",
       "      <td>-0.008983</td>\n",
       "      <td>0.014724</td>\n",
       "      <td>0</td>\n",
       "      <td>94813.854647</td>\n",
       "      <td>-90.951433</td>\n",
       "    </tr>\n",
       "    <tr>\n",
       "      <th>2</th>\n",
       "      <td>-1.358354</td>\n",
       "      <td>-1.340163</td>\n",
       "      <td>1.773209</td>\n",
       "      <td>0.379780</td>\n",
       "      <td>-0.503198</td>\n",
       "      <td>1.800499</td>\n",
       "      <td>0.791461</td>\n",
       "      <td>0.247676</td>\n",
       "      <td>-1.514654</td>\n",
       "      <td>0.207643</td>\n",
       "      <td>...</td>\n",
       "      <td>0.771679</td>\n",
       "      <td>0.909412</td>\n",
       "      <td>-0.689281</td>\n",
       "      <td>-0.327642</td>\n",
       "      <td>-0.139097</td>\n",
       "      <td>-0.055353</td>\n",
       "      <td>-0.059752</td>\n",
       "      <td>0</td>\n",
       "      <td>94812.875630</td>\n",
       "      <td>285.018623</td>\n",
       "    </tr>\n",
       "    <tr>\n",
       "      <th>3</th>\n",
       "      <td>-0.966272</td>\n",
       "      <td>-0.185226</td>\n",
       "      <td>1.792993</td>\n",
       "      <td>-0.863291</td>\n",
       "      <td>-0.010309</td>\n",
       "      <td>1.247203</td>\n",
       "      <td>0.237609</td>\n",
       "      <td>0.377436</td>\n",
       "      <td>-1.387024</td>\n",
       "      <td>-0.054952</td>\n",
       "      <td>...</td>\n",
       "      <td>0.005274</td>\n",
       "      <td>-0.190321</td>\n",
       "      <td>-1.175575</td>\n",
       "      <td>0.647376</td>\n",
       "      <td>-0.221929</td>\n",
       "      <td>0.062723</td>\n",
       "      <td>0.061458</td>\n",
       "      <td>0</td>\n",
       "      <td>94812.861389</td>\n",
       "      <td>29.858623</td>\n",
       "    </tr>\n",
       "    <tr>\n",
       "      <th>4</th>\n",
       "      <td>-1.158233</td>\n",
       "      <td>0.877737</td>\n",
       "      <td>1.548718</td>\n",
       "      <td>0.403034</td>\n",
       "      <td>-0.407193</td>\n",
       "      <td>0.095921</td>\n",
       "      <td>0.592941</td>\n",
       "      <td>-0.270533</td>\n",
       "      <td>0.817739</td>\n",
       "      <td>0.753074</td>\n",
       "      <td>...</td>\n",
       "      <td>0.798278</td>\n",
       "      <td>-0.137458</td>\n",
       "      <td>0.141267</td>\n",
       "      <td>-0.206010</td>\n",
       "      <td>0.502292</td>\n",
       "      <td>0.219422</td>\n",
       "      <td>0.215153</td>\n",
       "      <td>0</td>\n",
       "      <td>94811.858403</td>\n",
       "      <td>-23.651321</td>\n",
       "    </tr>\n",
       "  </tbody>\n",
       "</table>\n",
       "<p>5 rows × 31 columns</p>\n",
       "</div>"
      ],
      "text/plain": [
       "         V1        V2        V3        V4        V5        V6        V7  \\\n",
       "0 -1.359807 -0.072781  2.536347  1.378155 -0.338321  0.462388  0.239599   \n",
       "1  1.191857  0.266151  0.166480  0.448154  0.060018 -0.082361 -0.078803   \n",
       "2 -1.358354 -1.340163  1.773209  0.379780 -0.503198  1.800499  0.791461   \n",
       "3 -0.966272 -0.185226  1.792993 -0.863291 -0.010309  1.247203  0.237609   \n",
       "4 -1.158233  0.877737  1.548718  0.403034 -0.407193  0.095921  0.592941   \n",
       "\n",
       "         V8        V9       V10  ...       V22       V23       V24       V25  \\\n",
       "0  0.098698  0.363787  0.090794  ...  0.277838 -0.110474  0.066928  0.128539   \n",
       "1  0.085102 -0.255425 -0.166974  ... -0.638672  0.101288 -0.339846  0.167170   \n",
       "2  0.247676 -1.514654  0.207643  ...  0.771679  0.909412 -0.689281 -0.327642   \n",
       "3  0.377436 -1.387024 -0.054952  ...  0.005274 -0.190321 -1.175575  0.647376   \n",
       "4 -0.270533  0.817739  0.753074  ...  0.798278 -0.137458  0.141267 -0.206010   \n",
       "\n",
       "        V26       V27       V28  Class      PCA_Time  PCA_Amount  \n",
       "0 -0.189115  0.133558 -0.021053      0  94813.862847   55.978567  \n",
       "1  0.125895 -0.008983  0.014724      0  94813.854647  -90.951433  \n",
       "2 -0.139097 -0.055353 -0.059752      0  94812.875630  285.018623  \n",
       "3 -0.221929  0.062723  0.061458      0  94812.861389   29.858623  \n",
       "4  0.502292  0.219422  0.215153      0  94811.858403  -23.651321  \n",
       "\n",
       "[5 rows x 31 columns]"
      ]
     },
     "execution_count": 6,
     "metadata": {},
     "output_type": "execute_result"
    }
   ],
   "source": [
    "columns= df[['Time', 'Amount']]\n",
    "pca = PCA()\n",
    "pca.fit(columns)\n",
    "X_PCA = pca.transform(columns)\n",
    "\n",
    "df['PCA_Time']=X_PCA[:,0]\n",
    "df['PCA_Amount']=X_PCA[:,1]\n",
    "\n",
    "df.drop(['Time', 'Amount'], axis=1, inplace=True)\n",
    "df.head()"
   ]
  },
  {
   "cell_type": "markdown",
   "metadata": {},
   "source": [
    "##### Check for missing data"
   ]
  },
  {
   "cell_type": "code",
   "execution_count": 7,
   "metadata": {},
   "outputs": [
    {
     "data": {
      "text/html": [
       "<div>\n",
       "<style scoped>\n",
       "    .dataframe tbody tr th:only-of-type {\n",
       "        vertical-align: middle;\n",
       "    }\n",
       "\n",
       "    .dataframe tbody tr th {\n",
       "        vertical-align: top;\n",
       "    }\n",
       "\n",
       "    .dataframe thead th {\n",
       "        text-align: right;\n",
       "    }\n",
       "</style>\n",
       "<table border=\"1\" class=\"dataframe\">\n",
       "  <thead>\n",
       "    <tr style=\"text-align: right;\">\n",
       "      <th></th>\n",
       "      <th>PCA_Amount</th>\n",
       "      <th>V15</th>\n",
       "      <th>V2</th>\n",
       "      <th>V3</th>\n",
       "      <th>V4</th>\n",
       "      <th>V5</th>\n",
       "      <th>V6</th>\n",
       "      <th>V7</th>\n",
       "      <th>V8</th>\n",
       "      <th>V9</th>\n",
       "      <th>...</th>\n",
       "      <th>V21</th>\n",
       "      <th>V22</th>\n",
       "      <th>V23</th>\n",
       "      <th>V24</th>\n",
       "      <th>V25</th>\n",
       "      <th>V26</th>\n",
       "      <th>V27</th>\n",
       "      <th>V28</th>\n",
       "      <th>Class</th>\n",
       "      <th>V1</th>\n",
       "    </tr>\n",
       "  </thead>\n",
       "  <tbody>\n",
       "    <tr>\n",
       "      <th>Total</th>\n",
       "      <td>0.0</td>\n",
       "      <td>0.0</td>\n",
       "      <td>0.0</td>\n",
       "      <td>0.0</td>\n",
       "      <td>0.0</td>\n",
       "      <td>0.0</td>\n",
       "      <td>0.0</td>\n",
       "      <td>0.0</td>\n",
       "      <td>0.0</td>\n",
       "      <td>0.0</td>\n",
       "      <td>...</td>\n",
       "      <td>0.0</td>\n",
       "      <td>0.0</td>\n",
       "      <td>0.0</td>\n",
       "      <td>0.0</td>\n",
       "      <td>0.0</td>\n",
       "      <td>0.0</td>\n",
       "      <td>0.0</td>\n",
       "      <td>0.0</td>\n",
       "      <td>0.0</td>\n",
       "      <td>0.0</td>\n",
       "    </tr>\n",
       "    <tr>\n",
       "      <th>Percent</th>\n",
       "      <td>0.0</td>\n",
       "      <td>0.0</td>\n",
       "      <td>0.0</td>\n",
       "      <td>0.0</td>\n",
       "      <td>0.0</td>\n",
       "      <td>0.0</td>\n",
       "      <td>0.0</td>\n",
       "      <td>0.0</td>\n",
       "      <td>0.0</td>\n",
       "      <td>0.0</td>\n",
       "      <td>...</td>\n",
       "      <td>0.0</td>\n",
       "      <td>0.0</td>\n",
       "      <td>0.0</td>\n",
       "      <td>0.0</td>\n",
       "      <td>0.0</td>\n",
       "      <td>0.0</td>\n",
       "      <td>0.0</td>\n",
       "      <td>0.0</td>\n",
       "      <td>0.0</td>\n",
       "      <td>0.0</td>\n",
       "    </tr>\n",
       "  </tbody>\n",
       "</table>\n",
       "<p>2 rows × 31 columns</p>\n",
       "</div>"
      ],
      "text/plain": [
       "         PCA_Amount  V15   V2   V3   V4   V5   V6   V7   V8   V9  ...  V21  \\\n",
       "Total           0.0  0.0  0.0  0.0  0.0  0.0  0.0  0.0  0.0  0.0  ...  0.0   \n",
       "Percent         0.0  0.0  0.0  0.0  0.0  0.0  0.0  0.0  0.0  0.0  ...  0.0   \n",
       "\n",
       "         V22  V23  V24  V25  V26  V27  V28  Class   V1  \n",
       "Total    0.0  0.0  0.0  0.0  0.0  0.0  0.0    0.0  0.0  \n",
       "Percent  0.0  0.0  0.0  0.0  0.0  0.0  0.0    0.0  0.0  \n",
       "\n",
       "[2 rows x 31 columns]"
      ]
     },
     "execution_count": 7,
     "metadata": {},
     "output_type": "execute_result"
    }
   ],
   "source": [
    "total = df.isnull().sum().sort_values(ascending = False)\n",
    "percent = (df.isnull().sum()/df.isnull().count()*100).sort_values(ascending = False)\n",
    "pd.concat([total, percent], axis=1, keys=['Total', 'Percent']).transpose()"
   ]
  },
  {
   "cell_type": "markdown",
   "metadata": {},
   "source": [
    "##### Split the data for supervised learning"
   ]
  },
  {
   "cell_type": "code",
   "execution_count": 8,
   "metadata": {},
   "outputs": [],
   "source": [
    "X_train, X_test= train_test_split(df, test_size=0.3, random_state=7)"
   ]
  },
  {
   "cell_type": "code",
   "execution_count": 9,
   "metadata": {},
   "outputs": [
    {
     "name": "stdout",
     "output_type": "stream",
     "text": [
      "(199364, 31)\n"
     ]
    }
   ],
   "source": [
    "print(X_train.shape)"
   ]
  },
  {
   "cell_type": "markdown",
   "metadata": {},
   "source": [
    "##### Data prior to upsampling"
   ]
  },
  {
   "cell_type": "code",
   "execution_count": 10,
   "metadata": {},
   "outputs": [
    {
     "name": "stdout",
     "output_type": "stream",
     "text": [
      "0    85288\n",
      "1      155\n",
      "Name: Class, dtype: int64\n"
     ]
    }
   ],
   "source": [
    "print(X_test['Class'].value_counts())\n",
    "X_test_t= X_test.drop([\"Class\"], axis=1)\n",
    "Y_test= X_test[\"Class\"]"
   ]
  },
  {
   "cell_type": "markdown",
   "metadata": {},
   "source": [
    "##### Apply upsampling to the training data"
   ]
  },
  {
   "cell_type": "code",
   "execution_count": 11,
   "metadata": {},
   "outputs": [
    {
     "name": "stdout",
     "output_type": "stream",
     "text": [
      "(199027, 31)\n"
     ]
    },
    {
     "data": {
      "text/plain": [
       "1    199027\n",
       "0    199027\n",
       "Name: Class, dtype: int64"
      ]
     },
     "execution_count": 11,
     "metadata": {},
     "output_type": "execute_result"
    }
   ],
   "source": [
    "non_fraud_class=X_train[X_train[\"Class\"]==0]\n",
    "fraud_class=X_train[X_train[\"Class\"]==1]\n",
    "\n",
    "resamp_fraudclass=resample(fraud_class,n_samples=199027,replace=True,random_state=42)\n",
    "print(resamp_fraudclass.shape)\n",
    "\n",
    "Xtrain_new= pd.concat([non_fraud_class,resamp_fraudclass])\n",
    "Xtrain_new[\"Class\"].value_counts()"
   ]
  },
  {
   "cell_type": "code",
   "execution_count": 12,
   "metadata": {},
   "outputs": [
    {
     "name": "stdout",
     "output_type": "stream",
     "text": [
      "(398054, 30)\n"
     ]
    }
   ],
   "source": [
    "upsampling_X= Xtrain_new.drop([\"Class\"], axis=1)\n",
    "upsampling_y= Xtrain_new[\"Class\"]\n",
    "print(upsampling_X.shape)"
   ]
  },
  {
   "cell_type": "markdown",
   "metadata": {},
   "source": [
    "## Data Exploration"
   ]
  },
  {
   "cell_type": "code",
   "execution_count": 13,
   "metadata": {},
   "outputs": [
    {
     "data": {
      "image/png": "[encoded data removed]",
      "text/plain": [
       "<Figure size 1440x1440 with 30 Axes>"
      ]
     },
     "metadata": {
      "needs_background": "light"
     },
     "output_type": "display_data"
    }
   ],
   "source": [
    "# create histograms on all features\n",
    "df_hist = df.drop(['PCA_Time','PCA_Amount', 'Class'], 1)\n",
    "df_hist.hist(figsize=(20,20), bins = 50, color = \"b\", edgecolor='black')\n",
    "plt.show()"
   ]
  },
  {
   "cell_type": "code",
   "execution_count": 14,
   "metadata": {},
   "outputs": [
    {
     "data": {
      "image/png": "[encoded data removed]",
      "text/plain": [
       "<Figure size 1080x288 with 2 Axes>"
      ]
     },
     "metadata": {
      "needs_background": "light"
     },
     "output_type": "display_data"
    }
   ],
   "source": [
    "# feature correlation\n",
    "plt.figure(figsize=(15,4))\n",
    "f_cor = df_hist.corr()\n",
    "ax=sns.heatmap(f_cor, cmap=\"Blues_r\")"
   ]
  },
  {
   "cell_type": "markdown",
   "metadata": {},
   "source": [
    "## Classification: Applying Supervised Machine Learning Algorithms"
   ]
  },
  {
   "cell_type": "code",
   "execution_count": 15,
   "metadata": {},
   "outputs": [],
   "source": [
    "upsampling_pipe = []\n",
    "upsampling_pipe.append(('Logistic Regression', Pipeline([('LR',LogisticRegression(max_iter=1000))])))\n",
    "upsampling_pipe.append(('Decision Tree', Pipeline([('DT',DecisionTreeClassifier())])))\n",
    "upsampling_pipe.append(('Naive Bayes', Pipeline([('NB',GaussianNB())])))"
   ]
  },
  {
   "cell_type": "markdown",
   "metadata": {},
   "source": [
    "##### Post upsampling 10 fold cross validation "
   ]
  },
  {
   "cell_type": "code",
   "execution_count": 16,
   "metadata": {},
   "outputs": [
    {
     "name": "stdout",
     "output_type": "stream",
     "text": [
      "Logistic Regression: 0.935164 (0.035610)\n",
      "Decision Tree: 0.999794 (0.000231)\n",
      "Naive Bayes: 0.862879 (0.127681)\n"
     ]
    }
   ],
   "source": [
    "upsamp_results = []\n",
    "names = []\n",
    "for name, model in upsampling_pipe:\n",
    "    kfold = KFold(n_splits=10, random_state=None, shuffle=False)\n",
    "    ups_cv_results = cross_val_score(model, upsampling_X, upsampling_y, cv=kfold)\n",
    "    upsamp_results.append(ups_cv_results)\n",
    "    names.append(name)\n",
    "    msg = \"%s: %f (%f)\" % (name, ups_cv_results.mean(), ups_cv_results.std())\n",
    "    print(msg)"
   ]
  },
  {
   "cell_type": "markdown",
   "metadata": {},
   "source": [
    "##### Logistic Regression with training & test data"
   ]
  },
  {
   "cell_type": "code",
   "execution_count": 17,
   "metadata": {},
   "outputs": [
    {
     "name": "stdout",
     "output_type": "stream",
     "text": [
      "Logistic Regression Model\n",
      "Accuracy Classification Score:  0.9740411736479291 \n",
      "\n",
      "Classification Report:\n",
      "               precision    recall  f1-score   support\n",
      "\n",
      "           0       1.00      0.97      0.99     85288\n",
      "           1       0.06      0.92      0.11       155\n",
      "\n",
      "    accuracy                           0.97     85443\n",
      "   macro avg       0.53      0.95      0.55     85443\n",
      "weighted avg       1.00      0.97      0.99     85443\n",
      "\n",
      "f1_score: 55.02%\n",
      "\n",
      "Confusion matrix\n",
      "       0     1\n",
      "0  83083  2205\n",
      "1     13   142\n"
     ]
    }
   ],
   "source": [
    "LR=LogisticRegression(max_iter=1000)\n",
    "                \n",
    "kF= KFold(n_splits=10, random_state=None, shuffle=False)\n",
    "LR.fit(upsampling_X, upsampling_y)\n",
    "LR_predictions=LR.predict(X_test_t)\n",
    "\n",
    "model_name = 'Logistic Regression'\n",
    "print(f'{model_name} Model')\n",
    "\n",
    "print(\"Accuracy Classification Score: \", accuracy_score(Y_test,LR_predictions),\"\\n\")\n",
    "print(\"Classification Report:\\n\" , classification_report(Y_test, LR_predictions))\n",
    "lr_model_score = score(LR_predictions, Y_test,average='macro')\n",
    "print(f'f1_score: {np.round(lr_model_score[2]*100, 2)}%')\n",
    "\n",
    "cm_lr = metrics.confusion_matrix(Y_test, LR_predictions)\n",
    "print(\"\\nConfusion matrix\")\n",
    "print(pd.DataFrame(cm_lr))\n",
    "\n",
    "performance_df = pd.DataFrame().append({'model_name':model_name, \n",
    "                                    'precision': lr_model_score[0], \n",
    "                                    'recall': lr_model_score[1], \n",
    "                                    'f1_score': lr_model_score[2]}, ignore_index=True)"
   ]
  },
  {
   "cell_type": "markdown",
   "metadata": {},
   "source": [
    "##### Decision Tree with training and test data"
   ]
  },
  {
   "cell_type": "code",
   "execution_count": 18,
   "metadata": {},
   "outputs": [
    {
     "name": "stdout",
     "output_type": "stream",
     "text": [
      "Decision Tree Model\n",
      "Accuracy Classification Score:  0.9991456292499094 \n",
      "\n",
      "Classification Report:\n",
      "               precision    recall  f1-score   support\n",
      "\n",
      "           0       1.00      1.00      1.00     85288\n",
      "           1       0.78      0.74      0.76       155\n",
      "\n",
      "    accuracy                           1.00     85443\n",
      "   macro avg       0.89      0.87      0.88     85443\n",
      "weighted avg       1.00      1.00      1.00     85443\n",
      "\n",
      "f1_score: 87.93%\n",
      "\n",
      "Confusion matrix\n",
      "       0    1\n",
      "0  85255   33\n",
      "1     40  115\n"
     ]
    }
   ],
   "source": [
    "DT=DecisionTreeClassifier()\n",
    "                \n",
    "kF= KFold(n_splits=10, random_state=None, shuffle=False)\n",
    "DT.fit(upsampling_X, upsampling_y)\n",
    "DT_predictions=DT.predict(X_test_t)\n",
    "\n",
    "model_name = 'Decision Tree'\n",
    "print(f'{model_name} Model')\n",
    "\n",
    "print(\"Accuracy Classification Score: \", accuracy_score(Y_test, DT_predictions),\"\\n\")\n",
    "print(\"Classification Report:\\n\" , classification_report(Y_test, DT_predictions))\n",
    "dt_model_score = score(DT_predictions, Y_test,average='macro')\n",
    "print(f'f1_score: {np.round(dt_model_score[2]*100, 2)}%')\n",
    "\n",
    "cm_dt = metrics.confusion_matrix(Y_test, DT_predictions)\n",
    "print(\"\\nConfusion matrix\")\n",
    "print(pd.DataFrame(cm_dt))\n",
    "\n",
    "performance_df = performance_df.append({'model_name':model_name, \n",
    "                                    'precision': dt_model_score[0], \n",
    "                                    'recall': dt_model_score[1], \n",
    "                                    'f1_score': dt_model_score[2]}, ignore_index=True)"
   ]
  },
  {
   "cell_type": "markdown",
   "metadata": {},
   "source": [
    "##### Naive Bayes with training and test data"
   ]
  },
  {
   "cell_type": "code",
   "execution_count": 19,
   "metadata": {},
   "outputs": [
    {
     "name": "stdout",
     "output_type": "stream",
     "text": [
      "Naive Bayes Model\n",
      "Accuracy Classification Score:  0.9906838477113398 \n",
      "\n",
      "Classification Report:\n",
      "               precision    recall  f1-score   support\n",
      "\n",
      "           0       1.00      0.99      1.00     85288\n",
      "           1       0.14      0.79      0.24       155\n",
      "\n",
      "    accuracy                           0.99     85443\n",
      "   macro avg       0.57      0.89      0.62     85443\n",
      "weighted avg       1.00      0.99      0.99     85443\n",
      "\n",
      "f1_score: 61.57%\n",
      "\n",
      "Confusion matrix\n",
      "       0    1\n",
      "0  84524  764\n",
      "1     32  123\n"
     ]
    }
   ],
   "source": [
    "NB=GaussianNB() \n",
    "                \n",
    "kF= KFold(n_splits=10, random_state=None, shuffle=False)\n",
    "NB.fit(upsampling_X, upsampling_y)\n",
    "NB_predictions=NB.predict(X_test_t)\n",
    "\n",
    "model_name = 'Naive Bayes'\n",
    "print(f'{model_name} Model')\n",
    "\n",
    "print(\"Accuracy Classification Score: \", accuracy_score(Y_test, NB_predictions),\"\\n\")\n",
    "print(\"Classification Report:\\n\" ,classification_report(Y_test, NB_predictions))\n",
    "nb_model_score = score(NB_predictions, Y_test,average='macro')\n",
    "print(f'f1_score: {np.round(nb_model_score[2]*100, 2)}%')\n",
    "\n",
    "cm_nb = metrics.confusion_matrix(Y_test, NB_predictions)\n",
    "print(\"\\nConfusion matrix\")\n",
    "print(pd.DataFrame(cm_nb))\n",
    "\n",
    "performance_df = performance_df.append({'model_name':model_name, \n",
    "                                    'precision': nb_model_score[0], \n",
    "                                    'recall': nb_model_score[1], \n",
    "                                    'f1_score': nb_model_score[2]}, ignore_index=True)"
   ]
  },
  {
   "cell_type": "markdown",
   "metadata": {},
   "source": [
    "## Classification: Applying Unsupervised Machine Learning Algorithms"
   ]
  },
  {
   "cell_type": "code",
   "execution_count": 20,
   "metadata": {},
   "outputs": [],
   "source": [
    "# Feature Selection using Z-test\n",
    "def ztest(feature):\n",
    "    mean = normal[feature].mean()\n",
    "    std = fraud[feature].std()\n",
    "    zScore = (fraud[feature].mean() - mean) / (std/np.sqrt(sample_size))\n",
    "    return zScore"
   ]
  },
  {
   "cell_type": "code",
   "execution_count": 21,
   "metadata": {},
   "outputs": [
    {
     "name": "stdout",
     "output_type": "stream",
     "text": [
      "V1  is statistically significant\n",
      "V2  is statistically significant\n",
      "V3  is statistically significant\n",
      "V4  is statistically significant\n",
      "V5  is statistically significant\n",
      "V6  is statistically significant\n",
      "V7  is statistically significant\n",
      "V9  is statistically significant\n",
      "V10  is statistically significant\n",
      "V11  is statistically significant\n",
      "V12  is statistically significant\n",
      "V14  is statistically significant\n",
      "V16  is statistically significant\n",
      "V17  is statistically significant\n",
      "V18  is statistically significant\n",
      "V19  is statistically significant\n",
      "V20  is statistically significant\n",
      "V21  is statistically significant\n",
      "V24  is statistically significant\n",
      "V27  is statistically significant\n",
      "V28  is statistically significant\n",
      "PCA_Time  is statistically significant\n",
      "PCA_Amount  is statistically significant\n"
     ]
    }
   ],
   "source": [
    "# Two tailed Z-test with the level of significance of 0.01 where corresponding critical value of 2.58 is used\n",
    "columns= df.drop('Class', axis=1).columns\n",
    "normal= df[df.Class==0]\n",
    "fraud= df[df.Class==1]\n",
    "sample_size=len(fraud)\n",
    "significant_features=[]\n",
    "cvalue=2.58 \n",
    "\n",
    "for i in columns:    \n",
    "    z_value=ztest(i)    \n",
    "    if( abs(z_value) >= cvalue):    \n",
    "        print(i,\" is statistically significant\") #Reject Null hypothesis. i.e. H0\n",
    "        significant_features.append(i)"
   ]
  },
  {
   "cell_type": "code",
   "execution_count": 22,
   "metadata": {},
   "outputs": [
    {
     "name": "stdout",
     "output_type": "stream",
     "text": [
      "Statistically significant Features:  (284807, 24)\n"
     ]
    }
   ],
   "source": [
    "significant_features.append('Class')\n",
    "data= df[significant_features]\n",
    "print('Statistically significant Features: ',data.shape)"
   ]
  },
  {
   "cell_type": "code",
   "execution_count": 23,
   "metadata": {},
   "outputs": [
    {
     "name": "stdout",
     "output_type": "stream",
     "text": [
      "0 = Valid, 1 = Fraud\n",
      "0    284315\n",
      "1       492\n",
      "Name: Class, dtype: int64\n",
      "Outlier Fraction:  0.0017304750013189597\n"
     ]
    }
   ],
   "source": [
    "##Calculate the Outlier Fraction\n",
    "df_base = df.copy()\n",
    "print('0 = Valid, 1 = Fraud')\n",
    "value_counts = df_base['Class'].value_counts()\n",
    "print(value_counts)\n",
    "contamination_rate = value_counts[1]/value_counts[0]\n",
    "print('Outlier Fraction: ',contamination_rate)"
   ]
  },
  {
   "cell_type": "code",
   "execution_count": 24,
   "metadata": {},
   "outputs": [],
   "source": [
    "# Separate the classes from the train set\n",
    "df_base = df.copy()\n",
    "df_classes = df_base['Class']\n",
    "df_train = df_base.drop(['Class'], axis=1)\n",
    "\n",
    "# split the data into train and test \n",
    "X_train, X_test, y_train, y_test = train_test_split(df_train, df_classes, test_size=0.30, random_state=42)"
   ]
  },
  {
   "cell_type": "code",
   "execution_count": 25,
   "metadata": {},
   "outputs": [],
   "source": [
    "# Define function to measure model performance\n",
    "def measure_performance(model, X_test, y_true, map_labels):\n",
    "    # predict on testset\n",
    "    df_pred_test = X_test.copy()\n",
    "    df_pred_test['Pred'] = model.predict(X_test)\n",
    "    if map_labels:\n",
    "        df_pred_test['Pred'] = df_pred_test['Pred'].map({1: 0, -1: 1})\n",
    "       \n",
    "    x_pred = df_pred_test['Pred'] \n",
    "    labels = np.unique(y_true)\n",
    "    \n",
    "    print(classification_report(x_pred, y_true))\n",
    "    \n",
    "    model_score = score(x_pred, y_true,average='macro')\n",
    "    print(f'f1_score: {np.round(model_score[2]*100, 2)}%')\n",
    "    \n",
    "    # Print the confusion matrix\n",
    "    cm_isf = confusion_matrix(x_pred, y_true, labels=labels)\n",
    "    cm = pd.DataFrame(cm_isf, index=labels, columns=labels)\n",
    "    print(\"\\nConfusion matrix\")\n",
    "    print(cm)\n",
    "    \n",
    "    return model_score"
   ]
  },
  {
   "cell_type": "markdown",
   "metadata": {},
   "source": [
    "##### Isolation Forest"
   ]
  },
  {
   "cell_type": "code",
   "execution_count": 26,
   "metadata": {},
   "outputs": [
    {
     "name": "stdout",
     "output_type": "stream",
     "text": [
      "Isolation Forest Model\n",
      "              precision    recall  f1-score   support\n",
      "\n",
      "           0       1.00      1.00      1.00     85307\n",
      "           1       0.31      0.31      0.31       136\n",
      "\n",
      "    accuracy                           1.00     85443\n",
      "   macro avg       0.65      0.65      0.65     85443\n",
      "weighted avg       1.00      1.00      1.00     85443\n",
      "\n",
      "f1_score: 65.39%\n",
      "\n",
      "Confusion matrix\n",
      "       0   1\n",
      "0  85213  94\n",
      "1     94  42\n"
     ]
    }
   ],
   "source": [
    "# Define the parameter \n",
    "n_estimators=[50, 100]\n",
    "max_features=[1.0, 5, 10]\n",
    "bootstrap=[True]\n",
    "param_grid = dict(n_estimators=n_estimators, max_features=max_features, bootstrap=bootstrap)\n",
    "\n",
    "# Build the gridsearch\n",
    "model_isf = IsolationForest(n_estimators=n_estimators, \n",
    "                            max_features=max_features, \n",
    "                            contamination=contamination_rate, \n",
    "                            bootstrap=False, \n",
    "                            n_jobs=-1)\n",
    "\n",
    "# Define the f1 Scorer\n",
    "f1_sc = make_scorer(f1_score, average='macro')\n",
    "\n",
    "grid = GridSearchCV(estimator=model_isf, param_grid=param_grid, cv = 3, scoring=f1_sc)\n",
    "grid_results = grid.fit(X=X_train, y=y_train)\n",
    "\n",
    "# Evaluate model performance\n",
    "model_name = 'Isolation Forest'\n",
    "print(f'{model_name} Model')\n",
    "\n",
    "best_model = grid_results.best_estimator_\n",
    "map_labels = True\n",
    "model_score = measure_performance(best_model, X_test, y_test, map_labels)\n",
    "performance_df = performance_df.append({'model_name':model_name, \n",
    "                                    'precision': model_score[0], \n",
    "                                    'recall': model_score[1], \n",
    "                                    'f1_score': model_score[2]}, ignore_index=True)"
   ]
  },
  {
   "cell_type": "markdown",
   "metadata": {},
   "source": [
    "## Results and Evaluation"
   ]
  },
  {
   "cell_type": "code",
   "execution_count": 28,
   "metadata": {},
   "outputs": [
    {
     "name": "stdout",
     "output_type": "stream",
     "text": [
      "+----+------------+---------------------+-------------+----------+\n",
      "|    |   f1_score | model_name          |   precision |   recall |\n",
      "|----+------------+---------------------+-------------+----------|\n",
      "|  0 |   0.879324 | Decision Tree       |    0.870774 | 0.888279 |\n",
      "|  1 |   0.653861 | Isolation Forest    |    0.653861 | 0.653861 |\n",
      "|  2 |   0.615699 | Naive Bayes         |    0.892295 | 0.569146 |\n",
      "|  3 |   0.550168 | Logistic Regression |    0.945138 | 0.530173 |\n",
      "+----+------------+---------------------+-------------+----------+ \n",
      "\n"
     ]
    },
    {
     "data": {
      "image/png": "[encoded data removed]",
      "text/plain": [
       "<Figure size 864x288 with 1 Axes>"
      ]
     },
     "metadata": {
      "needs_background": "light"
     },
     "output_type": "display_data"
    }
   ],
   "source": [
    "performance_df.reset_index(drop=True, inplace=True)\n",
    "print(tabulate(performance_df, headers = 'keys', tablefmt = 'psql'),\"\\n\")\n",
    "performance_df = performance_df.sort_values('f1_score', ascending=False)\n",
    "\n",
    "fig, ax = plt.subplots(figsize=(12, 4))\n",
    "tbl = performance_df.melt(id_vars='model_name').rename(columns=str.title)\n",
    "sns.barplot(y='Model_Name', x='Value', hue='Variable', data=tbl, ax=ax, palette='tab10', linewidth=1, edgecolor=\"w\")\n",
    "cmp=plt.title('Model Anomaly Detection Performance Comparison')"
   ]
  },
  {
   "cell_type": "markdown",
   "metadata": {},
   "source": [
    "## Conclusion:"
   ]
  },
  {
   "cell_type": "markdown",
   "metadata": {},
   "source": [
    "It turned out that F1-Score, Precision, & Recall play a key role in evaluating the performance of the models, and the goal was to capture possible fraudulent cases without raising false alarms too frequently. Key points to note:\n",
    "\n",
    "1. The Decision Tree performs particularly well balanced.\n",
    "2. The opposite is true for the Isolation Forest unsupervised model. Here, only a few fraud cases are detected, but the model is comparatively correct to identify fraud cases.\n",
    "3. The Naive Bayes model has a slightly high F1-Score and detects many fraud cases. But it also raises false alarms very frequently.\n",
    "4. The Logistic Regression model performs slightly worse than the other models.\n"
   ]
  }
 ],
 "metadata": {
  "kernelspec": {
   "display_name": "Python 3",
   "language": "python",
   "name": "python3"
  },
  "language_info": {
   "codemirror_mode": {
    "name": "ipython",
    "version": 3
   },
   "file_extension": ".py",
   "mimetype": "text/x-python",
   "name": "python",
   "nbconvert_exporter": "python",
   "pygments_lexer": "ipython3",
   "version": "3.6.8"
  }
 },
 "nbformat": 4,
 "nbformat_minor": 4
}
